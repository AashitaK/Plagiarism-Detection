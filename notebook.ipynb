{
 "cells": [
  {
   "cell_type": "markdown",
   "metadata": {
    "_uuid": "1c5940368abe29a5bd29dcb8181a12ca2406765a"
   },
   "source": [
    "# Plagiarism Detection\n",
    "### Dataset\n",
    "The dataset used here is a small sample taken from the [International Competition on Plagiarism Detection PAN 2010](https://www.uni-weimar.de/en/media/chairs/computer-science-department/webis/data/corpus-pan-pc-10/). It consists of two kinds of files - suspicious documents and source documents. The dataset also contains information about whether a suspicious documents is plagiarized or not from the source documents. \n",
    "\n",
    "### Model overview\n",
    "We have built a classifier below to classify the suspicious documents as plagiarized or not. This is done in broadly two steps:\n",
    "1. First we derive four distinct similarity measures for each suspicious document. Two of the measures - Jaccard similarity coefficient and containment measure - are derived from the overlapping of the **trigrams** of the text, the next measure longest common sequence is derived from the tokens of the text whereas the last one is derived from the closeness of the vectors in Latent Semantic Analysis (LSA). \n",
    "2. Next we use these measures as the features for the suspicious documents to train a logistic regression classifier on them. \n",
    "\n",
    "### Rationale\n",
    "Plagiarism comes in many forms. The first two of the similarity measures coming from the trigrams is targeted to catch the copying of the text from the source documents whereas the similarity measure related to LSA attempts to catch the restructuring, revising and paraphrasing of the original text.  \n",
    "\n",
    "The model is designed after reviewing the literature and playing with various ideas. Many ideas, such as the first three similarity measures, are borrowed from the paper [Using Natural Language Processing for Automatic Detection of Plagiarism](http://citeseerx.ist.psu.edu/viewdoc/download?doi=10.1.1.458.9440&rep=rep1&type=pdf)  by Miranda Chong, et. al. For the text pre-processing, the detailed analysis from the paper  [The Influence of Text Pre-processing on Plagiarism Detection](https://pdfs.semanticscholar.org/a47c/1a35e2858da1eb82077b572e538a7b0b7b2d.pdf) is taken into account while building the model. The figure 2 in the paper clearly depicts the impact of the most commonly used text preprocessing methods. The following decisions are made for text preprocessing:\n",
    "1. Stopwords and punctutations are removed.\n",
    "2. Sentence segmentation is avoided since the plagiarism seem to span across consecutive sentences, hence the trigrams linking the sentences are useful as well.\n",
    "3. Numbers are removed at the very beginning.\n",
    "4. Lowercase is used throughout the text.\n",
    "5. Lemmatization is used but only for deriving the last feature (or measure) using LSA.\n",
    "6. POS-tagging might prove to be useful but the current model does not use it\n",
    "\n",
    "\n",
    "### Tools used: re (regular expressions), numpy, pandas, nltk, sklearn\n",
    "'\n",
    "### Ideas/Future work\n",
    "* Text preprocessing: POS-tagging, synonymy recognition, etc.\n",
    "* Using bigrams, 4-grams and/or 5-grams along with (or instead of) trigrams\n",
    "* Deriving more features for the classifier using more similarity measures or other approaches\n",
    "* Tuning the parameters for the logistic regression classifier\n",
    "* Modifying/optimizing the code for large-scale data\n",
    "\n",
    "### Challenges\n",
    "* Multi-source plagiarism:  When each suspicious documents is compared with all source documents to calculate the similarity meaures, the highest scores are considered. Thus, multi-source plagiarism  is not taken into account. This can be fixed by instead considering the average of the top 3 scores while calculating the similarity measures.\n",
    "* Language translation: Our model does not cover the plagiarism caused by translating the original text in another language\n",
    "* Paraphrasing is only partially addressed.\n",
    "* Model so far has a serious flaw that it might also flag a document that has properly quoted from the original source along with giving correct reference. This can be fixed by looking for the quotations at the very beginning. Check that the source for each quotation is properly attributed and then removing the quote along with the reference text.  \n",
    "* Model is built as a classifier that needs labeled data to train it."
   ]
  },
  {
   "cell_type": "markdown",
   "metadata": {
    "_uuid": "155690268348cf1a611cb783962cb76453266664"
   },
   "source": [
    "### Data Processing\n",
    "We start by importing the relevant modules."
   ]
  },
  {
   "cell_type": "code",
   "execution_count": 1,
   "metadata": {
    "_cell_guid": "b1076dfc-b9ad-4769-8c92-a6c4dae69d19",
    "_uuid": "8f2839f25d086af736a60e9eeb907d3b93b6e0e5",
    "collapsed": true
   },
   "outputs": [],
   "source": [
    "import numpy as np \n",
    "import pandas as pd \n",
    "import re\n",
    "\n",
    "import os\n",
    "path = \"input/\" # Update path\n",
    "\n",
    "import nltk\n",
    "from nltk import trigrams, word_tokenize\n",
    "from nltk.stem import WordNetLemmatizer \n",
    "from nltk.corpus import stopwords\n",
    "\n",
    "\n",
    "from sklearn.model_selection import train_test_split, cross_val_score\n",
    "from sklearn.feature_extraction.text import TfidfVectorizer\n",
    "from sklearn.decomposition import TruncatedSVD\n",
    "from sklearn.preprocessing import Normalizer\n",
    "from sklearn.linear_model import LogisticRegression\n",
    "from sklearn.metrics import classification_report\n",
    "\n",
    "import matplotlib.pyplot as plt\n",
    "import seaborn as sns\n",
    "%matplotlib inline\n",
    "\n",
    "import warnings\n",
    "warnings.filterwarnings('ignore')"
   ]
  },
  {
   "cell_type": "markdown",
   "metadata": {
    "_uuid": "7021243fd9433fe1a9111124c048cdb5305bebe8"
   },
   "source": [
    "Below are the functions to clean the text files and combine the files to give dataframes - one each for the source and the suspicious files:"
   ]
  },
  {
   "cell_type": "code",
   "execution_count": 2,
   "metadata": {
    "_uuid": "7ec5e6b57cf9c6484acfb0b144d148bcbed6a9b4",
    "collapsed": true
   },
   "outputs": [],
   "source": [
    "def clean_file(myfile):\n",
    "    mf = myfile.read()\n",
    "    mf = mf.lower()\n",
    "    mf = re.sub(r'[\\n]\\s*',r' ', mf)\n",
    "    mf = re.sub(r'[\\']|[:]|[+]|\\d+|[--]', '', mf)\n",
    "    mf = re.sub(r'\\(\\)',r'', mf)\n",
    "    mf = re.sub(r'\\.\\s+\\.', r'.', mf)\n",
    "    mf = mf.strip()\n",
    "    return mf\n",
    "\n",
    "def get_dataframe(files):\n",
    "    data = []\n",
    "    for f in files:\n",
    "        with open(path + f, mode='r', encoding='utf-8-sig') as myfile:\n",
    "            myfile = clean_file(myfile)\n",
    "            data.append(myfile)\n",
    "    df = pd.DataFrame(data, columns=['Text'])\n",
    "    return df"
   ]
  },
  {
   "cell_type": "markdown",
   "metadata": {
    "_uuid": "43ee4861ab727bbb00f81c404bb31392ca347cb1"
   },
   "source": [
    "Next we use the above functions to get a pandas dataframe for the suspicious file. The reason we put the files as a dataframe is because it will be easier to apply the same operations later on to each file."
   ]
  },
  {
   "cell_type": "code",
   "execution_count": 3,
   "metadata": {
    "_cell_guid": "79c7e3d0-c299-4dcb-8224-4455121ee9b0",
    "_uuid": "d629ff2d2480ee46fbb7e2d37f6b5fab8052498a"
   },
   "outputs": [
    {
     "data": {
      "text/html": [
       "<div>\n",
       "<style>\n",
       "    .dataframe thead tr:only-child th {\n",
       "        text-align: right;\n",
       "    }\n",
       "\n",
       "    .dataframe thead th {\n",
       "        text-align: left;\n",
       "    }\n",
       "\n",
       "    .dataframe tbody tr th {\n",
       "        vertical-align: top;\n",
       "    }\n",
       "</style>\n",
       "<table border=\"1\" class=\"dataframe\">\n",
       "  <thead>\n",
       "    <tr style=\"text-align: right;\">\n",
       "      <th></th>\n",
       "      <th>Text</th>\n",
       "      <th>File_index</th>\n",
       "      <th>Plagiarized</th>\n",
       "    </tr>\n",
       "  </thead>\n",
       "  <tbody>\n",
       "    <tr>\n",
       "      <th>0</th>\n",
       "      <td>bible studies in the life of paul historical a...</td>\n",
       "      <td>00001</td>\n",
       "      <td>1</td>\n",
       "    </tr>\n",
       "    <tr>\n",
       "      <th>1</th>\n",
       "      <td>my impatience to inhabit the hermitage not per...</td>\n",
       "      <td>00002</td>\n",
       "      <td>1</td>\n",
       "    </tr>\n",
       "    <tr>\n",
       "      <th>2</th>\n",
       "      <td>morning on the beachthe three letters        i...</td>\n",
       "      <td>00003</td>\n",
       "      <td>1</td>\n",
       "    </tr>\n",
       "    <tr>\n",
       "      <th>3</th>\n",
       "      <td>this morning it rained so hard (though it was ...</td>\n",
       "      <td>00004</td>\n",
       "      <td>0</td>\n",
       "    </tr>\n",
       "    <tr>\n",
       "      <th>4</th>\n",
       "      <td>deadham hard a romance by lucas malet (mary st...</td>\n",
       "      <td>00005</td>\n",
       "      <td>1</td>\n",
       "    </tr>\n",
       "  </tbody>\n",
       "</table>\n",
       "</div>"
      ],
      "text/plain": [
       "                                                Text File_index  Plagiarized\n",
       "0  bible studies in the life of paul historical a...      00001            1\n",
       "1  my impatience to inhabit the hermitage not per...      00002            1\n",
       "2  morning on the beachthe three letters        i...      00003            1\n",
       "3  this morning it rained so hard (though it was ...      00004            0\n",
       "4  deadham hard a romance by lucas malet (mary st...      00005            1"
      ]
     },
     "execution_count": 3,
     "metadata": {},
     "output_type": "execute_result"
    }
   ],
   "source": [
    "suspicious_files = sorted([f for f in os.listdir(path) if f.startswith('suspicious-document')])\n",
    "suspicious = get_dataframe(suspicious_files)\n",
    "suspicious['File_index'] = [f[19:24] for f in suspicious_files]\n",
    "plagiarized = pd.read_csv(path + \"Plagiarized.csv\")\n",
    "suspicious['Plagiarized'] = plagiarized.Plagiarized\n",
    "suspicious.head()"
   ]
  },
  {
   "cell_type": "markdown",
   "metadata": {
    "_uuid": "1b527987e7e547c46d2c0eb17f1dde23f8f36877"
   },
   "source": [
    "Similarly, below is the dataframe for the source files:"
   ]
  },
  {
   "cell_type": "code",
   "execution_count": 4,
   "metadata": {
    "_cell_guid": "79c7e3d0-c299-4dcb-8224-4455121ee9b0",
    "_uuid": "d629ff2d2480ee46fbb7e2d37f6b5fab8052498a"
   },
   "outputs": [
    {
     "data": {
      "text/html": [
       "<div>\n",
       "<style>\n",
       "    .dataframe thead tr:only-child th {\n",
       "        text-align: right;\n",
       "    }\n",
       "\n",
       "    .dataframe thead th {\n",
       "        text-align: left;\n",
       "    }\n",
       "\n",
       "    .dataframe tbody tr th {\n",
       "        vertical-align: top;\n",
       "    }\n",
       "</style>\n",
       "<table border=\"1\" class=\"dataframe\">\n",
       "  <thead>\n",
       "    <tr style=\"text-align: right;\">\n",
       "      <th></th>\n",
       "      <th>Text</th>\n",
       "      <th>File_index</th>\n",
       "    </tr>\n",
       "  </thead>\n",
       "  <tbody>\n",
       "    <tr>\n",
       "      <th>0</th>\n",
       "      <td>our next day was a pleasant, lazy day, during ...</td>\n",
       "      <td>00018</td>\n",
       "    </tr>\n",
       "    <tr>\n",
       "      <th>1</th>\n",
       "      <td>she stepped back to scyllas side. there was a ...</td>\n",
       "      <td>00040</td>\n",
       "    </tr>\n",
       "    <tr>\n",
       "      <th>2</th>\n",
       "      <td>punch, or the london charivari. volume . may ,...</td>\n",
       "      <td>00047</td>\n",
       "    </tr>\n",
       "    <tr>\n",
       "      <th>3</th>\n",
       "      <td>the leicestershires beyond baghdad by edward j...</td>\n",
       "      <td>00055</td>\n",
       "    </tr>\n",
       "    <tr>\n",
       "      <th>4</th>\n",
       "      <td>\"we soon began to find stones and dirt in the ...</td>\n",
       "      <td>00088</td>\n",
       "    </tr>\n",
       "  </tbody>\n",
       "</table>\n",
       "</div>"
      ],
      "text/plain": [
       "                                                Text File_index\n",
       "0  our next day was a pleasant, lazy day, during ...      00018\n",
       "1  she stepped back to scyllas side. there was a ...      00040\n",
       "2  punch, or the london charivari. volume . may ,...      00047\n",
       "3  the leicestershires beyond baghdad by edward j...      00055\n",
       "4  \"we soon began to find stones and dirt in the ...      00088"
      ]
     },
     "execution_count": 4,
     "metadata": {},
     "output_type": "execute_result"
    }
   ],
   "source": [
    "source_files = sorted([f for f in os.listdir(path) if f.startswith('source-document')])\n",
    "source = get_dataframe(source_files)\n",
    "source['File_index'] = [f[15:20] for f in source_files]\n",
    "source.head()"
   ]
  },
  {
   "cell_type": "markdown",
   "metadata": {
    "_uuid": "8cf181855d959e5dcf552218b899f5631708721e"
   },
   "source": [
    "Now, we process the text to remove punctutations and stopwords. The we tokenize the text and finally get trigrams from the corpus of the files so that we can use them to detect plagiarism. "
   ]
  },
  {
   "cell_type": "code",
   "execution_count": 5,
   "metadata": {
    "_uuid": "9393d3b44196431572232e8ed2c03f997f54dc11",
    "collapsed": true
   },
   "outputs": [],
   "source": [
    "def process_text(df):\n",
    "    df['Tokens'] = df['Text'].apply(word_tokenize) \n",
    "    punc = (\".\", \",\", \"?\", \"-\", \"!\", \"'\", '\"', \"\\\\\", \"/\", \";\", \"{\", \"}\", \"(\", \")\", \"[\", \"]\", \"''\", \"``\")\n",
    "    stop = set(stopwords.words('english'))\n",
    "    stop_punc = stop.union(punc)\n",
    "    df.Tokens = df.Tokens.apply(lambda x: [w for w in x if w not in stop_punc])\n",
    "    df['Trigrams'] = df['Tokens'].apply(lambda x: set(trigrams(x)))\n",
    "    return df"
   ]
  },
  {
   "cell_type": "markdown",
   "metadata": {
    "_uuid": "24be23ea40106ee3ad6aeb477f4865b557e833c1"
   },
   "source": [
    "Getting trigrams for the suspicious files:"
   ]
  },
  {
   "cell_type": "code",
   "execution_count": 6,
   "metadata": {
    "_uuid": "450ca15271279cc4024d66c45aa9185e8ee897ee"
   },
   "outputs": [
    {
     "data": {
      "text/html": [
       "<div>\n",
       "<style>\n",
       "    .dataframe thead tr:only-child th {\n",
       "        text-align: right;\n",
       "    }\n",
       "\n",
       "    .dataframe thead th {\n",
       "        text-align: left;\n",
       "    }\n",
       "\n",
       "    .dataframe tbody tr th {\n",
       "        vertical-align: top;\n",
       "    }\n",
       "</style>\n",
       "<table border=\"1\" class=\"dataframe\">\n",
       "  <thead>\n",
       "    <tr style=\"text-align: right;\">\n",
       "      <th></th>\n",
       "      <th>Text</th>\n",
       "      <th>File_index</th>\n",
       "      <th>Plagiarized</th>\n",
       "      <th>Tokens</th>\n",
       "      <th>Trigrams</th>\n",
       "    </tr>\n",
       "  </thead>\n",
       "  <tbody>\n",
       "    <tr>\n",
       "      <th>0</th>\n",
       "      <td>bible studies in the life of paul historical a...</td>\n",
       "      <td>00001</td>\n",
       "      <td>1</td>\n",
       "      <td>[bible, studies, life, paul, historical, const...</td>\n",
       "      <td>{(east, west, met), (ambition, must, restraine...</td>\n",
       "    </tr>\n",
       "    <tr>\n",
       "      <th>1</th>\n",
       "      <td>my impatience to inhabit the hermitage not per...</td>\n",
       "      <td>00002</td>\n",
       "      <td>1</td>\n",
       "      <td>[impatience, inhabit, hermitage, permitting, w...</td>\n",
       "      <td>{(harvey, since, definite), (though, scott, sa...</td>\n",
       "    </tr>\n",
       "    <tr>\n",
       "      <th>2</th>\n",
       "      <td>morning on the beachthe three letters        i...</td>\n",
       "      <td>00003</td>\n",
       "      <td>1</td>\n",
       "      <td>[morning, beachthe, three, letters, iii, old, ...</td>\n",
       "      <td>{(said, gracious, father), (thought, flushed, ...</td>\n",
       "    </tr>\n",
       "    <tr>\n",
       "      <th>3</th>\n",
       "      <td>this morning it rained so hard (though it was ...</td>\n",
       "      <td>00004</td>\n",
       "      <td>0</td>\n",
       "      <td>[morning, rained, hard, though, fair, yesterda...</td>\n",
       "      <td>{(next, day, thence), (cunning, knave, point),...</td>\n",
       "    </tr>\n",
       "    <tr>\n",
       "      <th>4</th>\n",
       "      <td>deadham hard a romance by lucas malet (mary st...</td>\n",
       "      <td>00005</td>\n",
       "      <td>1</td>\n",
       "      <td>[deadham, hard, romance, lucas, malet, mary, s...</td>\n",
       "      <td>{(behind, cloves, think), (walk, topping, seaw...</td>\n",
       "    </tr>\n",
       "  </tbody>\n",
       "</table>\n",
       "</div>"
      ],
      "text/plain": [
       "                                                Text File_index  Plagiarized  \\\n",
       "0  bible studies in the life of paul historical a...      00001            1   \n",
       "1  my impatience to inhabit the hermitage not per...      00002            1   \n",
       "2  morning on the beachthe three letters        i...      00003            1   \n",
       "3  this morning it rained so hard (though it was ...      00004            0   \n",
       "4  deadham hard a romance by lucas malet (mary st...      00005            1   \n",
       "\n",
       "                                              Tokens  \\\n",
       "0  [bible, studies, life, paul, historical, const...   \n",
       "1  [impatience, inhabit, hermitage, permitting, w...   \n",
       "2  [morning, beachthe, three, letters, iii, old, ...   \n",
       "3  [morning, rained, hard, though, fair, yesterda...   \n",
       "4  [deadham, hard, romance, lucas, malet, mary, s...   \n",
       "\n",
       "                                            Trigrams  \n",
       "0  {(east, west, met), (ambition, must, restraine...  \n",
       "1  {(harvey, since, definite), (though, scott, sa...  \n",
       "2  {(said, gracious, father), (thought, flushed, ...  \n",
       "3  {(next, day, thence), (cunning, knave, point),...  \n",
       "4  {(behind, cloves, think), (walk, topping, seaw...  "
      ]
     },
     "execution_count": 6,
     "metadata": {},
     "output_type": "execute_result"
    }
   ],
   "source": [
    "suspicious = process_text(suspicious)\n",
    "suspicious.head()"
   ]
  },
  {
   "cell_type": "markdown",
   "metadata": {
    "_uuid": "309537041cac1f6e5ecee0ab40e6d0e5483d59ab"
   },
   "source": [
    "Getting trigrams for the source files:"
   ]
  },
  {
   "cell_type": "code",
   "execution_count": 7,
   "metadata": {
    "_uuid": "77677d65552c35eda55d565a817ee4fd09b79079"
   },
   "outputs": [
    {
     "data": {
      "text/html": [
       "<div>\n",
       "<style>\n",
       "    .dataframe thead tr:only-child th {\n",
       "        text-align: right;\n",
       "    }\n",
       "\n",
       "    .dataframe thead th {\n",
       "        text-align: left;\n",
       "    }\n",
       "\n",
       "    .dataframe tbody tr th {\n",
       "        vertical-align: top;\n",
       "    }\n",
       "</style>\n",
       "<table border=\"1\" class=\"dataframe\">\n",
       "  <thead>\n",
       "    <tr style=\"text-align: right;\">\n",
       "      <th></th>\n",
       "      <th>Text</th>\n",
       "      <th>File_index</th>\n",
       "      <th>Tokens</th>\n",
       "      <th>Trigrams</th>\n",
       "    </tr>\n",
       "  </thead>\n",
       "  <tbody>\n",
       "    <tr>\n",
       "      <th>0</th>\n",
       "      <td>our next day was a pleasant, lazy day, during ...</td>\n",
       "      <td>00018</td>\n",
       "      <td>[next, day, pleasant, lazy, day, inspected, ka...</td>\n",
       "      <td>{(right, thing, hyena), (amazone, seemed, affo...</td>\n",
       "    </tr>\n",
       "    <tr>\n",
       "      <th>1</th>\n",
       "      <td>she stepped back to scyllas side. there was a ...</td>\n",
       "      <td>00040</td>\n",
       "      <td>[stepped, back, scyllas, side, deathly, doubt,...</td>\n",
       "      <td>{(said, slide, arms), (big, black, form), (hea...</td>\n",
       "    </tr>\n",
       "    <tr>\n",
       "      <th>2</th>\n",
       "      <td>punch, or the london charivari. volume . may ,...</td>\n",
       "      <td>00047</td>\n",
       "      <td>[punch, london, charivari, volume, may, *, *, ...</td>\n",
       "      <td>{(smiles, day, advanced), (performances, comme...</td>\n",
       "    </tr>\n",
       "    <tr>\n",
       "      <th>3</th>\n",
       "      <td>the leicestershires beyond baghdad by edward j...</td>\n",
       "      <td>00055</td>\n",
       "      <td>[leicestershires, beyond, baghdad, edward, j.,...</td>\n",
       "      <td>{(beginning, tide, victory), (evenings, seemed...</td>\n",
       "    </tr>\n",
       "    <tr>\n",
       "      <th>4</th>\n",
       "      <td>\"we soon began to find stones and dirt in the ...</td>\n",
       "      <td>00088</td>\n",
       "      <td>[soon, began, find, stones, dirt, ice, gone, t...</td>\n",
       "      <td>{(situation, minute, emergency), (true, pole, ...</td>\n",
       "    </tr>\n",
       "  </tbody>\n",
       "</table>\n",
       "</div>"
      ],
      "text/plain": [
       "                                                Text File_index  \\\n",
       "0  our next day was a pleasant, lazy day, during ...      00018   \n",
       "1  she stepped back to scyllas side. there was a ...      00040   \n",
       "2  punch, or the london charivari. volume . may ,...      00047   \n",
       "3  the leicestershires beyond baghdad by edward j...      00055   \n",
       "4  \"we soon began to find stones and dirt in the ...      00088   \n",
       "\n",
       "                                              Tokens  \\\n",
       "0  [next, day, pleasant, lazy, day, inspected, ka...   \n",
       "1  [stepped, back, scyllas, side, deathly, doubt,...   \n",
       "2  [punch, london, charivari, volume, may, *, *, ...   \n",
       "3  [leicestershires, beyond, baghdad, edward, j.,...   \n",
       "4  [soon, began, find, stones, dirt, ice, gone, t...   \n",
       "\n",
       "                                            Trigrams  \n",
       "0  {(right, thing, hyena), (amazone, seemed, affo...  \n",
       "1  {(said, slide, arms), (big, black, form), (hea...  \n",
       "2  {(smiles, day, advanced), (performances, comme...  \n",
       "3  {(beginning, tide, victory), (evenings, seemed...  \n",
       "4  {(situation, minute, emergency), (true, pole, ...  "
      ]
     },
     "execution_count": 7,
     "metadata": {},
     "output_type": "execute_result"
    }
   ],
   "source": [
    "source = process_text(source)\n",
    "source.head()"
   ]
  },
  {
   "cell_type": "markdown",
   "metadata": {
    "_uuid": "0ec83bde80688ddc062a169b4df416b3f4331676"
   },
   "source": [
    "### Similarity measures on trigrams\n",
    "\n",
    "Next we compare the suspicious files with the source files using two similarity measures:\n",
    "1. Jaccard similarity coefficient\n",
    "2. Containment measure\n",
    "\n",
    "The formulae and explanation for these measures can be found in this [paper](http://citeseerx.ist.psu.edu/viewdoc/download?doi=10.1.1.458.9440&rep=rep1&type=pdf).\n",
    "\n",
    "We write the code for the first two measures that are both used on trigrams."
   ]
  },
  {
   "cell_type": "code",
   "execution_count": 8,
   "metadata": {
    "_uuid": "456eb633750c9408a5d45acc871b1ae24aa8d434",
    "collapsed": true
   },
   "outputs": [],
   "source": [
    "def Jaccard_similarity_coefficient(A, B):\n",
    "    J = len(A.intersection(B))/len(A.union(B))\n",
    "    return J\n",
    "\n",
    "def containment_measure(A, B):\n",
    "    J = len(A.intersection(B))/len(B)\n",
    "    return J"
   ]
  },
  {
   "cell_type": "markdown",
   "metadata": {
    "_uuid": "94c14c90e4c1277fc7332cabd101fa8df7392bed"
   },
   "source": [
    "We write the functions to apply the above two measures to each suspicious file in the dataframe.  For each suspicious file, we compare it with all the source files and keep the highest score for the respective measure. "
   ]
  },
  {
   "cell_type": "code",
   "execution_count": 9,
   "metadata": {
    "collapsed": true
   },
   "outputs": [],
   "source": [
    "def check_plagiarism_Jaccard(doc_trigrams):\n",
    "    Jaccard_similarity_scores = source.Trigrams.apply(lambda s: Jaccard_similarity_coefficient(s, doc_trigrams))\n",
    "    most_similar = Jaccard_similarity_scores.idxmax()\n",
    "    return Jaccard_similarity_scores[most_similar]#, source.loc[most_similar, 'File_index']\n",
    "\n",
    "def check_plagiarism_containment(doc_trigrams):\n",
    "    containment_measure_scores = source.Trigrams.apply(lambda s: containment_measure(s, doc_trigrams))\n",
    "    most_similar = containment_measure_scores.idxmax()\n",
    "    return containment_measure_scores[most_similar]#, source.loc[most_similar, 'File_index']"
   ]
  },
  {
   "cell_type": "markdown",
   "metadata": {},
   "source": [
    "We get the two measures for comparing the similarity between trigrams of suspicious and source files.  "
   ]
  },
  {
   "cell_type": "code",
   "execution_count": 10,
   "metadata": {
    "_uuid": "4c150dd6513e723cbc3f9a67394672d589d713e2",
    "collapsed": true
   },
   "outputs": [],
   "source": [
    "suspicious['Jaccard_similarity_score'] = suspicious.Trigrams.apply(check_plagiarism_Jaccard)\n",
    "suspicious['Containment_measure_score'] = suspicious.Trigrams.apply(check_plagiarism_containment)"
   ]
  },
  {
   "cell_type": "code",
   "execution_count": 11,
   "metadata": {},
   "outputs": [
    {
     "data": {
      "image/png": "[encoded data removed]",
      "text/plain": [
       "<matplotlib.figure.Figure at 0x14ee083c8>"
      ]
     },
     "metadata": {},
     "output_type": "display_data"
    }
   ],
   "source": [
    "sns.swarmplot(x=\"Plagiarized\", y=\"Jaccard_similarity_score\", data=suspicious);"
   ]
  },
  {
   "cell_type": "code",
   "execution_count": 12,
   "metadata": {},
   "outputs": [
    {
     "data": {
      "image/png": "[encoded data removed]",
      "text/plain": [
       "<matplotlib.figure.Figure at 0x14eea5908>"
      ]
     },
     "metadata": {},
     "output_type": "display_data"
    }
   ],
   "source": [
    "sns.swarmplot(x=\"Plagiarized\", y=\"Containment_measure_score\", data=suspicious);"
   ]
  },
  {
   "cell_type": "code",
   "execution_count": 13,
   "metadata": {},
   "outputs": [
    {
     "data": {
      "image/png": "[encoded data removed]",
      "text/plain": [
       "<matplotlib.figure.Figure at 0x14eea70b8>"
      ]
     },
     "metadata": {},
     "output_type": "display_data"
    }
   ],
   "source": [
    "sns.relplot(x=\"Jaccard_similarity_score\", y=\"Containment_measure_score\", hue=\"Plagiarized\", data=suspicious);"
   ]
  },
  {
   "cell_type": "code",
   "execution_count": 33,
   "metadata": {},
   "outputs": [],
   "source": [
    "# sns.relplot(x=\"Jaccard_similarity_score\", y=\"Containment_measure_score\", hue=\"Plagiarized\", data=suspicious)#, logscale=True);"
   ]
  },
  {
   "cell_type": "markdown",
   "metadata": {},
   "source": [
    "### Longest common sequence"
   ]
  },
  {
   "cell_type": "markdown",
   "metadata": {},
   "source": [
    "Next we define the function to find the longest common sequence among two list of tokens."
   ]
  },
  {
   "cell_type": "code",
   "execution_count": null,
   "metadata": {
    "_uuid": "1c666ea1e9967538f5dfd104395fe6dddf4aee72",
    "collapsed": true
   },
   "outputs": [],
   "source": [
    "def LCS(A, B):\n",
    "    m, n = len(A), len(B)\n",
    "    counter = [[0]*(n+1) for x in range(m+1)]\n",
    "    A, B = list(A), list(B)\n",
    "    longest = 0\n",
    "    for i in range(m):\n",
    "        for j in range(n):\n",
    "            if A[i] == B[j]:\n",
    "                count = counter[i][j] + 1\n",
    "                counter[i+1][j+1] = count\n",
    "                if count > longest:\n",
    "                    longest = count\n",
    "    return longest\n",
    "\n",
    "def check_plagiarism_LCS(doc):\n",
    "    LCS_scores = source.Tokens.apply(lambda s: LCS(s, doc))\n",
    "    most_similar = LCS_scores.idxmax()\n",
    "    return LCS_scores[most_similar]#, source.loc[most_similar, 'File_index']"
   ]
  },
  {
   "cell_type": "markdown",
   "metadata": {},
   "source": [
    "Finding the length of the longest common sequence is the most computationally expensive step in the model:"
   ]
  },
  {
   "cell_type": "code",
   "execution_count": null,
   "metadata": {
    "collapsed": true
   },
   "outputs": [],
   "source": [
    "suspicious['Longest_common_sequence'] = suspicious.Trigrams.apply(check_plagiarism_LCS)"
   ]
  },
  {
   "cell_type": "markdown",
   "metadata": {
    "_uuid": "c05f0a98a51ac0fa05f6cc7f333dff2dab8f56d2"
   },
   "source": [
    " ### Latent Semantic Analysis"
   ]
  },
  {
   "cell_type": "markdown",
   "metadata": {},
   "source": [
    "First we lemmatize the tokens using `WordNetLemmatizer`."
   ]
  },
  {
   "cell_type": "code",
   "execution_count": 14,
   "metadata": {
    "collapsed": true
   },
   "outputs": [],
   "source": [
    "lemmatizer = WordNetLemmatizer()\n",
    "source.Tokens = source.Tokens.apply(lambda x: [lemmatizer.lemmatize(w) for w in x])\n",
    "suspicious.Tokens = suspicious.Tokens.apply(lambda x: [lemmatizer.lemmatize(w) for w in x])"
   ]
  },
  {
   "cell_type": "markdown",
   "metadata": {},
   "source": [
    "Next we use scikit-learn's ``TfidfVectorizer`` to get a document term matrix where the columns corresponds to the files (source and suspicious both). Since we want to make use of our pre-processed tokens instead of repeating the tokenizing process, we pass a dummy function to the vectorizer."
   ]
  },
  {
   "cell_type": "code",
   "execution_count": 15,
   "metadata": {
    "_uuid": "f7e23d806f3d0cdd572deb2407b74a70a80c9260",
    "collapsed": true
   },
   "outputs": [],
   "source": [
    "dummy_function = lambda x: x\n",
    "\n",
    "vectorizer = TfidfVectorizer(\n",
    "    analyzer='word',\n",
    "    token_pattern=None,\n",
    "    tokenizer=dummy_function,\n",
    "    preprocessor=dummy_function,\n",
    "    ngram_range=(1, 4),\n",
    "    max_features=1000,\n",
    "    ) \n",
    "\n",
    "DTM = vectorizer.fit_transform(suspicious.Tokens.append(source.Tokens))"
   ]
  },
  {
   "cell_type": "markdown",
   "metadata": {
    "_uuid": "417ae262a572ac06fa85f58fdbceccd03210fdb0"
   },
   "source": [
    "Now we use scikit-learn's ``TruncatedSVD`` to apply Singular Value Decomposition on the document term matrix *DTM* obtained above to get a lower dimensional matrix *DTM_LSA* with dim=50 and then normalize it."
   ]
  },
  {
   "cell_type": "code",
   "execution_count": 16,
   "metadata": {
    "_uuid": "cc253f1838357d16b2f38b4d5174151a249b73de",
    "collapsed": true
   },
   "outputs": [],
   "source": [
    "LSA = TruncatedSVD(50, algorithm = 'arpack')\n",
    "DTM_LSA = LSA.fit_transform(DTM)\n",
    "DTM_LSA = Normalizer(copy=False).fit_transform(DTM_LSA)"
   ]
  },
  {
   "cell_type": "markdown",
   "metadata": {
    "_uuid": "cee0f996bf5d74c2599556755db685f1ada22c6c"
   },
   "source": [
    "Since we have normalized the matrix ``DTM_LSA``,  the dot product of the vectors corresponding to two files will give the cosine angle between them, which is precisely the measure of similarity in this case. Hence, we get the similarity matrix by multiplying the matrix *DTM_LSA* with its transpose."
   ]
  },
  {
   "cell_type": "code",
   "execution_count": 17,
   "metadata": {
    "_uuid": "c068db6257e362baca70d421d601aa2db0d5d398",
    "collapsed": true
   },
   "outputs": [],
   "source": [
    "similarity_matrix = np.asarray(np.asmatrix(DTM_LSA) * np.asmatrix(DTM_LSA).T)"
   ]
  },
  {
   "cell_type": "markdown",
   "metadata": {
    "_uuid": "b9016f92211fdb1bc1d2364e1abff3df9ee118f0"
   },
   "source": [
    "Next we find the highest similarity score for each suspicious document while considering the values corresponding to the source documents only. We achieve this by first setting all the diagonal values as well as the LXL square matrix to zero and taking the max value for each row."
   ]
  },
  {
   "cell_type": "code",
   "execution_count": 18,
   "metadata": {
    "_uuid": "d3756b4cce5938a25b372fd895168b32b41304ac",
    "collapsed": true
   },
   "outputs": [],
   "source": [
    "np.fill_diagonal(similarity_matrix, 0)\n",
    "L = len(suspicious_files)\n",
    "similarity_matrix[:L, :L] = np.zeros((L, L))\n",
    "suspicious['LSA_similarity'] = np.max(similarity_matrix, 1)[:L]"
   ]
  },
  {
   "cell_type": "code",
   "execution_count": 19,
   "metadata": {},
   "outputs": [
    {
     "data": {
      "image/png": "[encoded data removed]",
      "text/plain": [
       "<matplotlib.figure.Figure at 0x14fde5f98>"
      ]
     },
     "metadata": {},
     "output_type": "display_data"
    }
   ],
   "source": [
    "sns.swarmplot(x=\"Plagiarized\", y=\"LSA_similarity\", data=suspicious);"
   ]
  },
  {
   "cell_type": "markdown",
   "metadata": {},
   "source": [
    "Correlation coefficients for the similarity measures and the target variable:"
   ]
  },
  {
   "cell_type": "code",
   "execution_count": 20,
   "metadata": {},
   "outputs": [
    {
     "data": {
      "text/html": [
       "<div>\n",
       "<style>\n",
       "    .dataframe thead tr:only-child th {\n",
       "        text-align: right;\n",
       "    }\n",
       "\n",
       "    .dataframe thead th {\n",
       "        text-align: left;\n",
       "    }\n",
       "\n",
       "    .dataframe tbody tr th {\n",
       "        vertical-align: top;\n",
       "    }\n",
       "</style>\n",
       "<table border=\"1\" class=\"dataframe\">\n",
       "  <thead>\n",
       "    <tr style=\"text-align: right;\">\n",
       "      <th></th>\n",
       "      <th>LSA_similarity</th>\n",
       "      <th>Jaccard_similarity_score</th>\n",
       "      <th>Containment_measure_score</th>\n",
       "      <th>Plagiarized</th>\n",
       "    </tr>\n",
       "  </thead>\n",
       "  <tbody>\n",
       "    <tr>\n",
       "      <th>LSA_similarity</th>\n",
       "      <td>1.000000</td>\n",
       "      <td>0.139629</td>\n",
       "      <td>0.058424</td>\n",
       "      <td>0.150114</td>\n",
       "    </tr>\n",
       "    <tr>\n",
       "      <th>Jaccard_similarity_score</th>\n",
       "      <td>0.139629</td>\n",
       "      <td>1.000000</td>\n",
       "      <td>0.707689</td>\n",
       "      <td>0.332351</td>\n",
       "    </tr>\n",
       "    <tr>\n",
       "      <th>Containment_measure_score</th>\n",
       "      <td>0.058424</td>\n",
       "      <td>0.707689</td>\n",
       "      <td>1.000000</td>\n",
       "      <td>0.395896</td>\n",
       "    </tr>\n",
       "    <tr>\n",
       "      <th>Plagiarized</th>\n",
       "      <td>0.150114</td>\n",
       "      <td>0.332351</td>\n",
       "      <td>0.395896</td>\n",
       "      <td>1.000000</td>\n",
       "    </tr>\n",
       "  </tbody>\n",
       "</table>\n",
       "</div>"
      ],
      "text/plain": [
       "                           LSA_similarity  Jaccard_similarity_score  \\\n",
       "LSA_similarity                   1.000000                  0.139629   \n",
       "Jaccard_similarity_score         0.139629                  1.000000   \n",
       "Containment_measure_score        0.058424                  0.707689   \n",
       "Plagiarized                      0.150114                  0.332351   \n",
       "\n",
       "                           Containment_measure_score  Plagiarized  \n",
       "LSA_similarity                              0.058424     0.150114  \n",
       "Jaccard_similarity_score                    0.707689     0.332351  \n",
       "Containment_measure_score                   1.000000     0.395896  \n",
       "Plagiarized                                 0.395896     1.000000  "
      ]
     },
     "execution_count": 20,
     "metadata": {},
     "output_type": "execute_result"
    }
   ],
   "source": [
    "suspicious[['LSA_similarity', 'Jaccard_similarity_score', 'Containment_measure_score', 'Plagiarized']].corr()"
   ]
  },
  {
   "cell_type": "markdown",
   "metadata": {
    "_uuid": "f2304ffc510bc5ad47b03c7db8586ad8aee875ec"
   },
   "source": [
    "### Logistic regression classifier\n",
    "The last step is to use all the similarity measures obtained above as the features for the suspicious documents and train a logistic regression model.  For that we split the suspicious documents into train and test sets and keep only the columns corresponding to the similarity measures."
   ]
  },
  {
   "cell_type": "code",
   "execution_count": 21,
   "metadata": {
    "_uuid": "ed6b015c8e3bfa807409798d1c01469e14009820"
   },
   "outputs": [
    {
     "name": "stdout",
     "output_type": "stream",
     "text": [
      "0.76\n",
      "0.665\n"
     ]
    }
   ],
   "source": [
    "y = suspicious.Plagiarized\n",
    "X = suspicious[['LSA_similarity', 'Jaccard_similarity_score', 'Containment_measure_score']]#, 'Longest_common_sequence']]\n",
    "\n",
    "clf = LogisticRegression()\n",
    "cross_val_score(clf, X, y, cv=10)"
   ]
  },
  {
   "cell_type": "code",
   "execution_count": 28,
   "metadata": {},
   "outputs": [
    {
     "name": "stdout",
     "output_type": "stream",
     "text": [
      "             precision    recall  f1-score   support\n",
      "\n",
      "          0       0.69      1.00      0.82        67\n",
      "          1       1.00      0.09      0.17        33\n",
      "\n",
      "avg / total       0.79      0.70      0.60       100\n",
      "\n"
     ]
    }
   ],
   "source": [
    "X_train, X_test, y_train, y_test = train_test_split(X, y, test_size=0.20)\n",
    "clf = LogisticRegression()\n",
    "clf.fit(X_train, y_train)\n",
    "y_pred = clf.predict(X_test)\n",
    "print(classification_report(y_test, y_pred))"
   ]
  },
  {
   "cell_type": "code",
   "execution_count": 30,
   "metadata": {},
   "outputs": [
    {
     "data": {
      "text/plain": [
       "0    311\n",
       "1    189\n",
       "Name: Plagiarized, dtype: int64"
      ]
     },
     "execution_count": 30,
     "metadata": {},
     "output_type": "execute_result"
    }
   ],
   "source": [
    "y.value_counts()"
   ]
  },
  {
   "cell_type": "markdown",
   "metadata": {
    "_uuid": "9ddde9145de71b5b57057fbfdebd687e3f25d331"
   },
   "source": [
    "\n",
    "### References:\n",
    "1. [Using Natural Language Processing for Automatic Detection of Plagiarism](http://citeseerx.ist.psu.edu/viewdoc/download?doi=10.1.1.458.9440&rep=rep1&type=pdf)\n",
    "2. [The Role of Natural Language Processing Techniques in Plagiarism Detection](https://prezi.com/yhepkzz-qn76/the-role-of-natural-language-processing-techniques-in-plagiarism-detection/)\n",
    "3. [The Influence of Text Pre-processing on Plagiarism Detection](https://pdfs.semanticscholar.org/a47c/1a35e2858da1eb82077b572e538a7b0b7b2d.pdf)\n",
    "4. [Dataset](https://www.uni-weimar.de/en/media/chairs/computer-science-department/webis/data/corpus-pan-pc-10/)"
   ]
  }
 ],
 "metadata": {
  "kernelspec": {
   "display_name": "Python 3",
   "language": "python",
   "name": "python3"
  },
  "language_info": {
   "codemirror_mode": {
    "name": "ipython",
    "version": 3
   },
   "file_extension": ".py",
   "mimetype": "text/x-python",
   "name": "python",
   "nbconvert_exporter": "python",
   "pygments_lexer": "ipython3",
   "version": "3.6.1"
  }
 },
 "nbformat": 4,
 "nbformat_minor": 1
}
